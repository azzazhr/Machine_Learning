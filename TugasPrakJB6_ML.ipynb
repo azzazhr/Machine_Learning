{
  "nbformat": 4,
  "nbformat_minor": 0,
  "metadata": {
    "colab": {
      "provenance": [],
      "authorship_tag": "ABX9TyPid64C0GnzGy6V67pSOhRR",
      "include_colab_link": true
    },
    "kernelspec": {
      "name": "python3",
      "display_name": "Python 3"
    },
    "language_info": {
      "name": "python"
    }
  },
  "cells": [
    {
      "cell_type": "markdown",
      "metadata": {
        "id": "view-in-github",
        "colab_type": "text"
      },
      "source": [
        "<a href=\"https://colab.research.google.com/github/azzazhr/Machine_Learning/blob/main/TugasPrakJB6_ML.ipynb\" target=\"_parent\"><img src=\"https://colab.research.google.com/assets/colab-badge.svg\" alt=\"Open In Colab\"/></a>"
      ]
    },
    {
      "cell_type": "markdown",
      "source": [
        "### **Nama : Azzahra Attaqina**\n",
        "\n",
        "### **NIM  : 2341720224**\n",
        "\n",
        "### **Kelas : TI-3B**"
      ],
      "metadata": {
        "id": "lSyMSpGA6NLS"
      }
    },
    {
      "cell_type": "markdown",
      "source": [
        " **TUGAS PRAKTIKUM JOBSHEET 6**"
      ],
      "metadata": {
        "id": "Pp4SOoUn6UVy"
      }
    },
    {
      "cell_type": "markdown",
      "source": [
        "**Jalankan code berikut pada Google Colab dan PyDroid3 (Android Python) Application di Smartphone Android. Bandingkan hasilnya dan tuliskan analisa anda, tuliskan juga spesifikasi smartphone yang anda gunakan.**"
      ],
      "metadata": {
        "id": "vQlY2x296VGC"
      }
    },
    {
      "cell_type": "code",
      "source": [
        "!pip install annoy\n",
        "!pip install annoy faiss-cpu hnswlib"
      ],
      "metadata": {
        "colab": {
          "base_uri": "https://localhost:8080/"
        },
        "id": "hFh6DBlJ6g4s",
        "outputId": "bcbcb315-5a41-4423-878c-5c6b3f0afa82"
      },
      "execution_count": null,
      "outputs": [
        {
          "output_type": "stream",
          "name": "stdout",
          "text": [
            "Collecting annoy\n",
            "  Downloading annoy-1.17.3.tar.gz (647 kB)\n",
            "\u001b[2K     \u001b[90m━━━━━━━━━━━━━━━━━━━━━━━━━━━━━━━━━━━━━━━\u001b[0m \u001b[32m647.5/647.5 kB\u001b[0m \u001b[31m7.5 MB/s\u001b[0m eta \u001b[36m0:00:00\u001b[0m\n",
            "\u001b[?25h  Preparing metadata (setup.py) ... \u001b[?25l\u001b[?25hdone\n",
            "Building wheels for collected packages: annoy\n",
            "  Building wheel for annoy (setup.py) ... \u001b[?25l\u001b[?25hdone\n",
            "  Created wheel for annoy: filename=annoy-1.17.3-cp312-cp312-linux_x86_64.whl size=551803 sha256=8b0b95efa7e401f1fe935a0a450a1c88006226255d4faac29943af9f8fd25c94\n",
            "  Stored in directory: /root/.cache/pip/wheels/db/b9/53/a3b2d1fe1743abadddec6aa541294b24fdbc39d7800bc57311\n",
            "Successfully built annoy\n",
            "Installing collected packages: annoy\n",
            "Successfully installed annoy-1.17.3\n",
            "Requirement already satisfied: annoy in /usr/local/lib/python3.12/dist-packages (1.17.3)\n",
            "Collecting faiss-cpu\n",
            "  Downloading faiss_cpu-1.12.0-cp312-cp312-manylinux_2_27_x86_64.manylinux_2_28_x86_64.whl.metadata (5.1 kB)\n",
            "Collecting hnswlib\n",
            "  Downloading hnswlib-0.8.0.tar.gz (36 kB)\n",
            "  Installing build dependencies ... \u001b[?25l\u001b[?25hdone\n",
            "  Getting requirements to build wheel ... \u001b[?25l\u001b[?25hdone\n",
            "  Preparing metadata (pyproject.toml) ... \u001b[?25l\u001b[?25hdone\n",
            "Requirement already satisfied: numpy<3.0,>=1.25.0 in /usr/local/lib/python3.12/dist-packages (from faiss-cpu) (2.0.2)\n",
            "Requirement already satisfied: packaging in /usr/local/lib/python3.12/dist-packages (from faiss-cpu) (25.0)\n",
            "Downloading faiss_cpu-1.12.0-cp312-cp312-manylinux_2_27_x86_64.manylinux_2_28_x86_64.whl (31.4 MB)\n",
            "\u001b[2K   \u001b[90m━━━━━━━━━━━━━━━━━━━━━━━━━━━━━━━━━━━━━━━━\u001b[0m \u001b[32m31.4/31.4 MB\u001b[0m \u001b[31m20.0 MB/s\u001b[0m eta \u001b[36m0:00:00\u001b[0m\n",
            "\u001b[?25hBuilding wheels for collected packages: hnswlib\n",
            "  Building wheel for hnswlib (pyproject.toml) ... \u001b[?25l\u001b[?25hdone\n",
            "  Created wheel for hnswlib: filename=hnswlib-0.8.0-cp312-cp312-linux_x86_64.whl size=2528144 sha256=6e80f2864485331f98e4a170e9f1f07d6a65455d609c7eb1ad7bcd165a819cfc\n",
            "  Stored in directory: /root/.cache/pip/wheels/ac/39/b3/cbd7f9cbb76501d2d5fbc84956e70d0b94e788aac87bda465e\n",
            "Successfully built hnswlib\n",
            "Installing collected packages: hnswlib, faiss-cpu\n",
            "Successfully installed faiss-cpu-1.12.0 hnswlib-0.8.0\n"
          ]
        }
      ]
    },
    {
      "cell_type": "code",
      "source": [
        "import numpy as np\n",
        "import time\n",
        "from sklearn.neighbors import NearestNeighbors\n",
        "from annoy import AnnoyIndex\n",
        "import hnswlib\n",
        "import faiss\n",
        "from sklearn.preprocessing import StandardScaler\n",
        "\n",
        "# -------------------------------\n",
        "# Contoh dataset kecil untuk testing\n",
        "# -------------------------------\n",
        "np.random.seed(42)\n",
        "n_samples = 10000   # jumlah database vector\n",
        "d = 128             # dimensi\n",
        "X = np.random.random((n_samples, d)).astype('float32')\n",
        "\n",
        "# Standarisasi fitur\n",
        "scaler = StandardScaler()\n",
        "X_scaled = scaler.fit_transform(X)\n",
        "\n",
        "k = 10  # jumlah nearest neighbors\n",
        "\n",
        "# -------------------------------\n",
        "# Exact NN (brute-force)\n",
        "# -------------------------------\n",
        "start = time.time()\n",
        "nn = NearestNeighbors(n_neighbors=k, algorithm='brute', metric='euclidean')\n",
        "nn.fit(X_scaled)\n",
        "dist_exact, idx_exact = nn.kneighbors(X_scaled)\n",
        "time_exact = time.time() - start\n",
        "print(f\"Exact NN done in {time_exact:.3f} s\")\n",
        "\n",
        "# -------------------------------\n",
        "# Annoy\n",
        "# -------------------------------\n",
        "start = time.time()\n",
        "f = X_scaled.shape[1]\n",
        "index_annoy = AnnoyIndex(f, 'euclidean')\n",
        "for i, v in enumerate(X_scaled):\n",
        "    index_annoy.add_item(i, v)\n",
        "index_annoy.build(10)\n",
        "idx_annoy = [index_annoy.get_nns_by_vector(v, k) for v in X_scaled]\n",
        "time_annoy = time.time() - start\n",
        "print(f\"Annoy done in {time_annoy:.3f} s\")\n",
        "\n",
        "# -------------------------------\n",
        "# HNSW\n",
        "# -------------------------------\n",
        "start = time.time()\n",
        "p_hnsw = hnswlib.Index(space='l2', dim=d)\n",
        "p_hnsw.init_index(max_elements=n_samples, ef_construction=200, M=16)\n",
        "p_hnsw.add_items(X_scaled)\n",
        "p_hnsw.set_ef(200)\n",
        "idx_hnsw, _ = p_hnsw.knn_query(X_scaled, k=k)\n",
        "time_hnsw = time.time() - start\n",
        "print(f\"HNSW done in {time_hnsw:.3f} s\")\n",
        "\n",
        "# -------------------------------\n",
        "# FAISS IVF\n",
        "# -------------------------------\n",
        "start = time.time()\n",
        "quantizer = faiss.IndexFlatL2(d)\n",
        "index_faiss = faiss.IndexIVFFlat(quantizer, d, 100, faiss.METRIC_L2)\n",
        "index_faiss.train(X_scaled)\n",
        "index_faiss.add(X_scaled)\n",
        "index_faiss.nprobe = 10\n",
        "_, idx_faiss = index_faiss.search(X_scaled, k)\n",
        "time_faiss = time.time() - start\n",
        "print(f\"FAISS IVF done in {time_faiss:.3f} s\")\n",
        "\n",
        "# -------------------------------\n",
        "# Tampilkan ringkasan waktu\n",
        "# -------------------------------\n",
        "print(\"\\n=== Ringkasan Waktu (detik) ===\")\n",
        "print(f\"Exact NN : {time_exact:.3f}\")\n",
        "print(f\"Annoy    : {time_annoy:.3f}\")\n",
        "print(f\"HNSW     : {time_hnsw:.3f}\")\n",
        "print(f\"FAISS    : {time_faiss:.3f}\")\n"
      ],
      "metadata": {
        "colab": {
          "base_uri": "https://localhost:8080/"
        },
        "id": "zzkQjo_i6bvu",
        "outputId": "9d842a34-0787-4af3-beeb-179c5229cc57"
      },
      "execution_count": null,
      "outputs": [
        {
          "output_type": "stream",
          "name": "stdout",
          "text": [
            "Exact NN done in 1.170 s\n",
            "Annoy done in 0.662 s\n",
            "HNSW done in 4.997 s\n",
            "FAISS IVF done in 0.603 s\n",
            "\n",
            "=== Ringkasan Waktu (detik) ===\n",
            "Exact NN : 1.170\n",
            "Annoy    : 0.662\n",
            "HNSW     : 4.997\n",
            "FAISS    : 0.603\n"
          ]
        }
      ]
    }
  ]
}